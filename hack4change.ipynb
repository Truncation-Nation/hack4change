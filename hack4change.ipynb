{
 "cells": [
  {
   "cell_type": "markdown",
   "metadata": {},
   "source": [
    "# Truncation Nation - Hack4Change"
   ]
  },
  {
   "cell_type": "code",
   "execution_count": 1,
   "metadata": {},
   "outputs": [
    {
     "output_type": "execute_result",
     "data": {
      "text/plain": [
       "     Unnamed: 0  ConfirmedCovidCases  TotalConfirmedCovidCases  \\\n",
       "0    2020-02-29                    1                         1   \n",
       "1    2020-03-03                    1                         2   \n",
       "2    2020-03-04                    4                         6   \n",
       "3    2020-03-05                    7                        13   \n",
       "4    2020-03-06                    5                        18   \n",
       "..          ...                  ...                       ...   \n",
       "299  2020-12-26                 1296                     85394   \n",
       "300  2020-12-27                  744                     86129   \n",
       "301  2020-12-28                  765                     86894   \n",
       "302  2020-12-29                 1546                     88439   \n",
       "303  2020-12-30                 1718                     90157   \n",
       "\n",
       "     ConfirmedCovidDeaths  TotalCovidDeaths  HospitalisedCovidCases  \\\n",
       "0                       0                 0                     NaN   \n",
       "1                       0                 0                     NaN   \n",
       "2                       0                 0                     NaN   \n",
       "3                       0                 0                     NaN   \n",
       "4                       0                 0                     NaN   \n",
       "..                    ...               ...                     ...   \n",
       "299                     6              2200                  5837.0   \n",
       "300                     4              2204                  5840.0   \n",
       "301                     1              2205                  5873.0   \n",
       "302                     9              2213                  5898.0   \n",
       "303                    13              2226                  5932.0   \n",
       "\n",
       "     TravelAbroad  \n",
       "0             NaN  \n",
       "1             NaN  \n",
       "2             NaN  \n",
       "3             NaN  \n",
       "4             NaN  \n",
       "..            ...  \n",
       "299           1.0  \n",
       "300           1.0  \n",
       "301           1.0  \n",
       "302           1.0  \n",
       "303           1.0  \n",
       "\n",
       "[304 rows x 7 columns]"
      ],
      "text/html": "<div>\n<style scoped>\n    .dataframe tbody tr th:only-of-type {\n        vertical-align: middle;\n    }\n\n    .dataframe tbody tr th {\n        vertical-align: top;\n    }\n\n    .dataframe thead th {\n        text-align: right;\n    }\n</style>\n<table border=\"1\" class=\"dataframe\">\n  <thead>\n    <tr style=\"text-align: right;\">\n      <th></th>\n      <th>Unnamed: 0</th>\n      <th>ConfirmedCovidCases</th>\n      <th>TotalConfirmedCovidCases</th>\n      <th>ConfirmedCovidDeaths</th>\n      <th>TotalCovidDeaths</th>\n      <th>HospitalisedCovidCases</th>\n      <th>TravelAbroad</th>\n    </tr>\n  </thead>\n  <tbody>\n    <tr>\n      <th>0</th>\n      <td>2020-02-29</td>\n      <td>1</td>\n      <td>1</td>\n      <td>0</td>\n      <td>0</td>\n      <td>NaN</td>\n      <td>NaN</td>\n    </tr>\n    <tr>\n      <th>1</th>\n      <td>2020-03-03</td>\n      <td>1</td>\n      <td>2</td>\n      <td>0</td>\n      <td>0</td>\n      <td>NaN</td>\n      <td>NaN</td>\n    </tr>\n    <tr>\n      <th>2</th>\n      <td>2020-03-04</td>\n      <td>4</td>\n      <td>6</td>\n      <td>0</td>\n      <td>0</td>\n      <td>NaN</td>\n      <td>NaN</td>\n    </tr>\n    <tr>\n      <th>3</th>\n      <td>2020-03-05</td>\n      <td>7</td>\n      <td>13</td>\n      <td>0</td>\n      <td>0</td>\n      <td>NaN</td>\n      <td>NaN</td>\n    </tr>\n    <tr>\n      <th>4</th>\n      <td>2020-03-06</td>\n      <td>5</td>\n      <td>18</td>\n      <td>0</td>\n      <td>0</td>\n      <td>NaN</td>\n      <td>NaN</td>\n    </tr>\n    <tr>\n      <th>...</th>\n      <td>...</td>\n      <td>...</td>\n      <td>...</td>\n      <td>...</td>\n      <td>...</td>\n      <td>...</td>\n      <td>...</td>\n    </tr>\n    <tr>\n      <th>299</th>\n      <td>2020-12-26</td>\n      <td>1296</td>\n      <td>85394</td>\n      <td>6</td>\n      <td>2200</td>\n      <td>5837.0</td>\n      <td>1.0</td>\n    </tr>\n    <tr>\n      <th>300</th>\n      <td>2020-12-27</td>\n      <td>744</td>\n      <td>86129</td>\n      <td>4</td>\n      <td>2204</td>\n      <td>5840.0</td>\n      <td>1.0</td>\n    </tr>\n    <tr>\n      <th>301</th>\n      <td>2020-12-28</td>\n      <td>765</td>\n      <td>86894</td>\n      <td>1</td>\n      <td>2205</td>\n      <td>5873.0</td>\n      <td>1.0</td>\n    </tr>\n    <tr>\n      <th>302</th>\n      <td>2020-12-29</td>\n      <td>1546</td>\n      <td>88439</td>\n      <td>9</td>\n      <td>2213</td>\n      <td>5898.0</td>\n      <td>1.0</td>\n    </tr>\n    <tr>\n      <th>303</th>\n      <td>2020-12-30</td>\n      <td>1718</td>\n      <td>90157</td>\n      <td>13</td>\n      <td>2226</td>\n      <td>5932.0</td>\n      <td>1.0</td>\n    </tr>\n  </tbody>\n</table>\n<p>304 rows × 7 columns</p>\n</div>"
     },
     "metadata": {},
     "execution_count": 1
    }
   ],
   "source": [
    "import pandas as pd\n",
    "\n",
    "# Air Traffic Data\n",
    "air_traffic = pd.read_csv('data/cleaned/irish_flights.csv', parse_dates = True)\n",
    "air_traffic\n",
    "\n",
    "# Covid Cases Data\n",
    "covid_cases = pd.read_csv('data/cleaned/covid_stats.csv', parse_dates = True)\n",
    "covid_cases"
   ]
  },
  {
   "cell_type": "code",
   "execution_count": null,
   "metadata": {},
   "outputs": [],
   "source": []
  }
 ],
 "metadata": {
  "kernelspec": {
   "display_name": "Python 3",
   "language": "python",
   "name": "python3"
  },
  "language_info": {
   "codemirror_mode": {
    "name": "ipython",
    "version": 3
   },
   "file_extension": ".py",
   "mimetype": "text/x-python",
   "name": "python",
   "nbconvert_exporter": "python",
   "pygments_lexer": "ipython3",
   "version": "3.8.3-final"
  }
 },
 "nbformat": 4,
 "nbformat_minor": 2
}