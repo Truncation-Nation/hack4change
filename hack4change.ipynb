{
 "cells": [
  {
   "cell_type": "markdown",
   "metadata": {},
   "source": [
    "# Truncation Nation - Hack4Change"
   ]
  },
  {
   "cell_type": "code",
   "execution_count": 4,
   "metadata": {},
   "outputs": [
    {
     "output_type": "execute_result",
     "data": {
      "text/plain": [
       "       Day 2020  Flights 2020 7-day moving average Flights 2020\n",
       "0    2020-03-01           747                               693\n",
       "1    2020-03-02           762                               694\n",
       "2    2020-03-03           645                       696,8571429\n",
       "3    2020-03-04           648                       698,1428571\n",
       "4    2020-03-05           708                       697,5714286\n",
       "..          ...           ...                               ...\n",
       "292  2020-12-18           315                       182,8571429\n",
       "293  2020-12-19           250                       199,8571429\n",
       "294  2020-12-20           266                       215,2857143\n",
       "295  2020-12-21           202                       219,5714286\n",
       "296  2020-12-22           184                       224,7142857\n",
       "\n",
       "[297 rows x 3 columns]"
      ],
      "text/html": "<div>\n<style scoped>\n    .dataframe tbody tr th:only-of-type {\n        vertical-align: middle;\n    }\n\n    .dataframe tbody tr th {\n        vertical-align: top;\n    }\n\n    .dataframe thead th {\n        text-align: right;\n    }\n</style>\n<table border=\"1\" class=\"dataframe\">\n  <thead>\n    <tr style=\"text-align: right;\">\n      <th></th>\n      <th>Day 2020</th>\n      <th>Flights 2020</th>\n      <th>7-day moving average Flights 2020</th>\n    </tr>\n  </thead>\n  <tbody>\n    <tr>\n      <th>0</th>\n      <td>2020-03-01</td>\n      <td>747</td>\n      <td>693</td>\n    </tr>\n    <tr>\n      <th>1</th>\n      <td>2020-03-02</td>\n      <td>762</td>\n      <td>694</td>\n    </tr>\n    <tr>\n      <th>2</th>\n      <td>2020-03-03</td>\n      <td>645</td>\n      <td>696,8571429</td>\n    </tr>\n    <tr>\n      <th>3</th>\n      <td>2020-03-04</td>\n      <td>648</td>\n      <td>698,1428571</td>\n    </tr>\n    <tr>\n      <th>4</th>\n      <td>2020-03-05</td>\n      <td>708</td>\n      <td>697,5714286</td>\n    </tr>\n    <tr>\n      <th>...</th>\n      <td>...</td>\n      <td>...</td>\n      <td>...</td>\n    </tr>\n    <tr>\n      <th>292</th>\n      <td>2020-12-18</td>\n      <td>315</td>\n      <td>182,8571429</td>\n    </tr>\n    <tr>\n      <th>293</th>\n      <td>2020-12-19</td>\n      <td>250</td>\n      <td>199,8571429</td>\n    </tr>\n    <tr>\n      <th>294</th>\n      <td>2020-12-20</td>\n      <td>266</td>\n      <td>215,2857143</td>\n    </tr>\n    <tr>\n      <th>295</th>\n      <td>2020-12-21</td>\n      <td>202</td>\n      <td>219,5714286</td>\n    </tr>\n    <tr>\n      <th>296</th>\n      <td>2020-12-22</td>\n      <td>184</td>\n      <td>224,7142857</td>\n    </tr>\n  </tbody>\n</table>\n<p>297 rows × 3 columns</p>\n</div>"
     },
     "metadata": {},
     "execution_count": 4
    }
   ],
   "source": [
    "import pandas as pd\n",
    "\n",
    "# Air Traffic Data\n",
    "air_traffic = pd.read_csv('data/cleaned/irish_flights.csv', parse_dates = True)\n",
    "air_traffic"
   ]
  },
  {
   "cell_type": "code",
   "execution_count": null,
   "metadata": {},
   "outputs": [],
   "source": []
  }
 ],
 "metadata": {
  "kernelspec": {
   "display_name": "Python 3",
   "language": "python",
   "name": "python3"
  },
  "language_info": {
   "codemirror_mode": {
    "name": "ipython",
    "version": 3
   },
   "file_extension": ".py",
   "mimetype": "text/x-python",
   "name": "python",
   "nbconvert_exporter": "python",
   "pygments_lexer": "ipython3",
   "version": "3.8.3-final"
  }
 },
 "nbformat": 4,
 "nbformat_minor": 2
}