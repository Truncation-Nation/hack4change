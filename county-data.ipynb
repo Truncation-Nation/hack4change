{
 "metadata": {
  "language_info": {
   "codemirror_mode": {
    "name": "ipython",
    "version": 3
   },
   "file_extension": ".py",
   "mimetype": "text/x-python",
   "name": "python",
   "nbconvert_exporter": "python",
   "pygments_lexer": "ipython3",
   "version": "3.8.3-final"
  },
  "orig_nbformat": 2,
  "kernelspec": {
   "name": "python3",
   "display_name": "Python 3",
   "language": "python"
  }
 },
 "nbformat": 4,
 "nbformat_minor": 2,
 "cells": [
  {
   "source": [
    "# County Data"
   ],
   "cell_type": "markdown",
   "metadata": {}
  },
  {
   "cell_type": "code",
   "execution_count": 41,
   "metadata": {},
   "outputs": [
    {
     "output_type": "execute_result",
     "data": {
      "text/plain": [
       "         CountyName               TimeStamp  ConfirmedCovidCases  \\\n",
       "OBJECTID                                                           \n",
       "1            Carlow  2020/02/27 00:00:00+00                    0   \n",
       "2             Cavan  2020/02/27 00:00:00+00                    0   \n",
       "3             Clare  2020/02/27 00:00:00+00                    0   \n",
       "4              Cork  2020/02/27 00:00:00+00                    0   \n",
       "5           Donegal  2020/02/27 00:00:00+00                    0   \n",
       "\n",
       "          PopulationProportionCovidCases  \n",
       "OBJECTID                                  \n",
       "1                                    NaN  \n",
       "2                                    NaN  \n",
       "3                                    NaN  \n",
       "4                                    NaN  \n",
       "5                                    NaN  "
      ],
      "text/html": "<div>\n<style scoped>\n    .dataframe tbody tr th:only-of-type {\n        vertical-align: middle;\n    }\n\n    .dataframe tbody tr th {\n        vertical-align: top;\n    }\n\n    .dataframe thead th {\n        text-align: right;\n    }\n</style>\n<table border=\"1\" class=\"dataframe\">\n  <thead>\n    <tr style=\"text-align: right;\">\n      <th></th>\n      <th>CountyName</th>\n      <th>TimeStamp</th>\n      <th>ConfirmedCovidCases</th>\n      <th>PopulationProportionCovidCases</th>\n    </tr>\n    <tr>\n      <th>OBJECTID</th>\n      <th></th>\n      <th></th>\n      <th></th>\n      <th></th>\n    </tr>\n  </thead>\n  <tbody>\n    <tr>\n      <th>1</th>\n      <td>Carlow</td>\n      <td>2020/02/27 00:00:00+00</td>\n      <td>0</td>\n      <td>NaN</td>\n    </tr>\n    <tr>\n      <th>2</th>\n      <td>Cavan</td>\n      <td>2020/02/27 00:00:00+00</td>\n      <td>0</td>\n      <td>NaN</td>\n    </tr>\n    <tr>\n      <th>3</th>\n      <td>Clare</td>\n      <td>2020/02/27 00:00:00+00</td>\n      <td>0</td>\n      <td>NaN</td>\n    </tr>\n    <tr>\n      <th>4</th>\n      <td>Cork</td>\n      <td>2020/02/27 00:00:00+00</td>\n      <td>0</td>\n      <td>NaN</td>\n    </tr>\n    <tr>\n      <th>5</th>\n      <td>Donegal</td>\n      <td>2020/02/27 00:00:00+00</td>\n      <td>0</td>\n      <td>NaN</td>\n    </tr>\n  </tbody>\n</table>\n</div>"
     },
     "metadata": {},
     "execution_count": 41
    }
   ],
   "source": [
    "import pandas as pd\n",
    "\n",
    "# Reading Data\n",
    "county_data = pd.read_csv('data/Covid19CountyStatisticsHPSCIreland.csv', index_col=\"OBJECTID\", parse_dates = True)\n",
    "\n",
    "# Removing not needed data\n",
    "del county_data[\"ORIGID\"]\n",
    "del county_data[\"PopulationCensus16\"]\n",
    "del county_data[\"IGEasting\"]\n",
    "del county_data[\"IGNorthing\"]\n",
    "del county_data[\"Lat\"]\n",
    "del county_data[\"Long\"]\n",
    "del county_data[\"UGI\"]\n",
    "del county_data[\"ConfirmedCovidDeaths\"]\n",
    "del county_data[\"ConfirmedCovidRecovered\"]\n",
    "del county_data[\"Shape__Area\"]\n",
    "del county_data[\"Shape__Length\"]\n",
    "\n",
    "county_data.head()"
   ]
  },
  {
   "cell_type": "code",
   "execution_count": 42,
   "metadata": {},
   "outputs": [],
   "source": [
    "# Extracting data for Dublin, Mayo, Limerick/Clare\n",
    "dublin = mayo = limerick = pd.DataFrame();\n",
    "for row in range(len(county_data)):\n",
    "    # Dublin Airport (Dublin)\n",
    "    if (county_data.iloc[row]['CountyName'] == 'Dublin'):\n",
    "        dublin = dublin.append(county_data.iloc[row])\n",
    "\n",
    "    # Knock Airport (Mayo)\n",
    "    if (county_data.iloc[row]['CountyName'] == 'Mayo'):\n",
    "        mayo = mayo.append(county_data.iloc[row])\n",
    "\n",
    "    # Shannon Airport (Limerick / Clare)\n",
    "    if (county_data.iloc[row]['CountyName'] == 'Limerick'):\n",
    "        limerick = limerick.append(county_data.iloc[row])\n"
   ]
  },
  {
   "cell_type": "code",
   "execution_count": 43,
   "metadata": {},
   "outputs": [],
   "source": [
    "# Formatting Indexes\n",
    "dublin.set_index(\"TimeStamp\", inplace = True)\n",
    "dublin.index = pd.to_datetime(dublin.index).date\n",
    "\n",
    "mayo.set_index(\"TimeStamp\", inplace = True)\n",
    "mayo.index = pd.to_datetime(mayo.index).date\n",
    "\n",
    "limerick.set_index(\"TimeStamp\", inplace = True)\n",
    "limerick.index = pd.to_datetime(limerick.index).date"
   ]
  },
  {
   "cell_type": "code",
   "execution_count": 44,
   "metadata": {},
   "outputs": [],
   "source": [
    "# Saving to CSVs\n",
    "dublin.to_csv('./data/cleaned/county_data/dublin.csv', sep=',')\n",
    "mayo.to_csv('./data/cleaned/county_data/mayo.csv', sep=',')\n",
    "limerick.to_csv('./data/cleaned/county_data/limerick.csv', sep=',')"
   ]
  }
 ]
}