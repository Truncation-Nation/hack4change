{
 "metadata": {
  "language_info": {
   "codemirror_mode": {
    "name": "ipython",
    "version": 3
   },
   "file_extension": ".py",
   "mimetype": "text/x-python",
   "name": "python",
   "nbconvert_exporter": "python",
   "pygments_lexer": "ipython3",
   "version": "3.8.3-final"
  },
  "orig_nbformat": 2,
  "kernelspec": {
   "name": "python3",
   "display_name": "Python 3",
   "language": "python"
  }
 },
 "nbformat": 4,
 "nbformat_minor": 2,
 "cells": [
  {
   "source": [
    "# Truncation Nation - Flight Data"
   ],
   "cell_type": "markdown",
   "metadata": {}
  },
  {
   "cell_type": "code",
   "execution_count": 12,
   "metadata": {
    "tags": []
   },
   "outputs": [
    {
     "output_type": "execute_result",
     "data": {
      "text/plain": [
       "                            Entity  Week    Day 2020  Flights 2019  \\\n",
       "0                          Albania     9  2020-03-01            67   \n",
       "1                          Albania    10  2020-03-02            65   \n",
       "2                          Albania    10  2020-03-03            51   \n",
       "3                          Albania    10  2020-03-04            53   \n",
       "4                          Albania    10  2020-03-05            67   \n",
       "...                            ...   ...         ...           ...   \n",
       "12469  -Total Network Manager Area    51  2020-12-18         30273   \n",
       "12470  -Total Network Manager Area    51  2020-12-19         25374   \n",
       "12471  -Total Network Manager Area    51  2020-12-20         26455   \n",
       "12472  -Total Network Manager Area    52  2020-12-21         26906   \n",
       "12473  -Total Network Manager Area    52  2020-12-22         19556   \n",
       "\n",
       "       Flights 2020 Daily Variation (Traffic)  \\\n",
       "0                61                     -0,09   \n",
       "1                72                     0,108   \n",
       "2                55                     0,078   \n",
       "3                53                         0   \n",
       "4                69                      0,03   \n",
       "...             ...                       ...   \n",
       "12469         15114             -0,5007432365   \n",
       "12470         12153             -0,5210451643   \n",
       "12471         12409             -0,5309393309   \n",
       "12472         12563             -0,5330781238   \n",
       "12473         11694              -0,402024954   \n",
       "\n",
       "      7-day moving average Flights 2020 Weekly Moving Average (Traffic)  \\\n",
       "0                           61,71428571                   0,02612826603   \n",
       "1                                    62                   0,03087885986   \n",
       "2                           62,28571429                    0,0380952381   \n",
       "3                           61,57142857                   0,03855421687   \n",
       "4                           61,14285714                   0,02637889688   \n",
       "...                                 ...                             ...   \n",
       "12469                       11212,42857                   -0,5877848563   \n",
       "12470                       11782,14286                   -0,5730488891   \n",
       "12471                       12204,71429                   -0,5590441044   \n",
       "12472                       12429,28571                   -0,5476570502   \n",
       "12473                       12616,14286                   -0,5242166624   \n",
       "\n",
       "       Number    Day 2019  \n",
       "0          35  2019-03-03  \n",
       "1          36  2019-03-04  \n",
       "2          37  2019-03-05  \n",
       "3          38  2019-03-06  \n",
       "4          39  2019-03-07  \n",
       "...       ...         ...  \n",
       "12469     327  2019-12-20  \n",
       "12470     328  2019-12-21  \n",
       "12471     329  2019-12-22  \n",
       "12472     330  2019-12-23  \n",
       "12473     331  2019-12-24  \n",
       "\n",
       "[12474 rows x 10 columns]"
      ],
      "text/html": "<div>\n<style scoped>\n    .dataframe tbody tr th:only-of-type {\n        vertical-align: middle;\n    }\n\n    .dataframe tbody tr th {\n        vertical-align: top;\n    }\n\n    .dataframe thead th {\n        text-align: right;\n    }\n</style>\n<table border=\"1\" class=\"dataframe\">\n  <thead>\n    <tr style=\"text-align: right;\">\n      <th></th>\n      <th>Entity</th>\n      <th>Week</th>\n      <th>Day 2020</th>\n      <th>Flights 2019</th>\n      <th>Flights 2020</th>\n      <th>Daily Variation (Traffic)</th>\n      <th>7-day moving average Flights 2020</th>\n      <th>Weekly Moving Average (Traffic)</th>\n      <th>Number</th>\n      <th>Day 2019</th>\n    </tr>\n  </thead>\n  <tbody>\n    <tr>\n      <th>0</th>\n      <td>Albania</td>\n      <td>9</td>\n      <td>2020-03-01</td>\n      <td>67</td>\n      <td>61</td>\n      <td>-0,09</td>\n      <td>61,71428571</td>\n      <td>0,02612826603</td>\n      <td>35</td>\n      <td>2019-03-03</td>\n    </tr>\n    <tr>\n      <th>1</th>\n      <td>Albania</td>\n      <td>10</td>\n      <td>2020-03-02</td>\n      <td>65</td>\n      <td>72</td>\n      <td>0,108</td>\n      <td>62</td>\n      <td>0,03087885986</td>\n      <td>36</td>\n      <td>2019-03-04</td>\n    </tr>\n    <tr>\n      <th>2</th>\n      <td>Albania</td>\n      <td>10</td>\n      <td>2020-03-03</td>\n      <td>51</td>\n      <td>55</td>\n      <td>0,078</td>\n      <td>62,28571429</td>\n      <td>0,0380952381</td>\n      <td>37</td>\n      <td>2019-03-05</td>\n    </tr>\n    <tr>\n      <th>3</th>\n      <td>Albania</td>\n      <td>10</td>\n      <td>2020-03-04</td>\n      <td>53</td>\n      <td>53</td>\n      <td>0</td>\n      <td>61,57142857</td>\n      <td>0,03855421687</td>\n      <td>38</td>\n      <td>2019-03-06</td>\n    </tr>\n    <tr>\n      <th>4</th>\n      <td>Albania</td>\n      <td>10</td>\n      <td>2020-03-05</td>\n      <td>67</td>\n      <td>69</td>\n      <td>0,03</td>\n      <td>61,14285714</td>\n      <td>0,02637889688</td>\n      <td>39</td>\n      <td>2019-03-07</td>\n    </tr>\n    <tr>\n      <th>...</th>\n      <td>...</td>\n      <td>...</td>\n      <td>...</td>\n      <td>...</td>\n      <td>...</td>\n      <td>...</td>\n      <td>...</td>\n      <td>...</td>\n      <td>...</td>\n      <td>...</td>\n    </tr>\n    <tr>\n      <th>12469</th>\n      <td>-Total Network Manager Area</td>\n      <td>51</td>\n      <td>2020-12-18</td>\n      <td>30273</td>\n      <td>15114</td>\n      <td>-0,5007432365</td>\n      <td>11212,42857</td>\n      <td>-0,5877848563</td>\n      <td>327</td>\n      <td>2019-12-20</td>\n    </tr>\n    <tr>\n      <th>12470</th>\n      <td>-Total Network Manager Area</td>\n      <td>51</td>\n      <td>2020-12-19</td>\n      <td>25374</td>\n      <td>12153</td>\n      <td>-0,5210451643</td>\n      <td>11782,14286</td>\n      <td>-0,5730488891</td>\n      <td>328</td>\n      <td>2019-12-21</td>\n    </tr>\n    <tr>\n      <th>12471</th>\n      <td>-Total Network Manager Area</td>\n      <td>51</td>\n      <td>2020-12-20</td>\n      <td>26455</td>\n      <td>12409</td>\n      <td>-0,5309393309</td>\n      <td>12204,71429</td>\n      <td>-0,5590441044</td>\n      <td>329</td>\n      <td>2019-12-22</td>\n    </tr>\n    <tr>\n      <th>12472</th>\n      <td>-Total Network Manager Area</td>\n      <td>52</td>\n      <td>2020-12-21</td>\n      <td>26906</td>\n      <td>12563</td>\n      <td>-0,5330781238</td>\n      <td>12429,28571</td>\n      <td>-0,5476570502</td>\n      <td>330</td>\n      <td>2019-12-23</td>\n    </tr>\n    <tr>\n      <th>12473</th>\n      <td>-Total Network Manager Area</td>\n      <td>52</td>\n      <td>2020-12-22</td>\n      <td>19556</td>\n      <td>11694</td>\n      <td>-0,402024954</td>\n      <td>12616,14286</td>\n      <td>-0,5242166624</td>\n      <td>331</td>\n      <td>2019-12-24</td>\n    </tr>\n  </tbody>\n</table>\n<p>12474 rows × 10 columns</p>\n</div>"
     },
     "metadata": {},
     "execution_count": 12
    }
   ],
   "source": [
    "import pandas as pd\n",
    "\n",
    "# Reading Data\n",
    "traffic = pd.read_csv('data/daily_traffic_variation.csv', parse_dates = True)\n",
    "traffic.head()\n",
    "\n",
    "# Irish Flight Data\n",
    "# for row in range(len(traffic)):\n",
    "#   print(row)\n",
    "\n",
    "traffic"
   ]
  },
  {
   "cell_type": "code",
   "execution_count": null,
   "metadata": {},
   "outputs": [],
   "source": []
  }
 ]
}